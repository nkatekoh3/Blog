{
  "cells": [
    {
      "cell_type": "markdown",
      "metadata": {
        "id": "view-in-github",
        "colab_type": "text"
      },
      "source": [
        "<a href=\"https://colab.research.google.com/github/nkatekoh3/Blog/blob/master/Homework_1.ipynb\" target=\"_parent\"><img src=\"https://colab.research.google.com/assets/colab-badge.svg\" alt=\"Open In Colab\"/></a>"
      ]
    },
    {
      "cell_type": "markdown",
      "metadata": {
        "id": "4T3LA-GTNT38"
      },
      "source": [
        "# Welcome to IDA117V (Interoduction to data science) Exercises for Python Fundamentals\n",
        "\n",
        "Solving these exercises will help make you a better programmer. Solve them in order, because each solution builds scaffolding, working code, and knowledge you can use on future problems. Read the directions carefully, and have fun!\n",
        "\n",
        "I will release solutions to assignment every week.\n"
      ]
    },
    {
      "cell_type": "markdown",
      "metadata": {
        "id": "-e6bDUWFNT4H"
      },
      "source": [
        "Python is a powerful, flexible programming language widely used for scientific computing, in web/Internet development, to write desktop graphical user interfaces (GUIs), create games, and much more. \n",
        "\n",
        "Python is an high-level, interpreted, object-oriented language written in C, which means it is compiled on-the-fly, at run-time execution. Its syntax is close to C, but without prototyping (whether a variable is an integer or a string will be automatically determined by the context). It can be executed either directly in an interpreter, in a script or in a notebook (as here).\n",
        "\n",
        "The documentation on Python can be found at [http://docs.python.org](http://docs.python.org).\n",
        "\n",
        "Many resources to learn Python exist on the Web.\n"
      ]
    },
    {
      "cell_type": "markdown",
      "metadata": {
        "id": "saE_C0W_NT4m"
      },
      "source": [
        "## Basics In Python\n",
        "\n",
        "### Print Statement\n",
        "\n",
        "In Python 3, the `print()` function is a regular function:\n",
        "\n",
        "```python\n",
        "print(value1, value2, ...)\n",
        "```\n",
        "\n",
        "You can give it as many arguments as you want (of whatever type), they will be printed one after another separated by spaces.\n",
        "\n",
        "**Q:** Try to print \"Hello World!\" using two different strings \"Hello\" and \"World!\":"
      ]
    },
    {
      "cell_type": "code",
      "execution_count": 11,
      "metadata": {
        "id": "WBs57H7FNT4n",
        "colab": {
          "base_uri": "https://localhost:8080/"
        },
        "outputId": "4bf40108-57bd-4492-824d-f07301d75fc5"
      },
      "outputs": [
        {
          "output_type": "stream",
          "name": "stdout",
          "text": [
            "Hello World!\n"
          ]
        }
      ],
      "source": [
        "text1 = 'Hello'\n",
        "text2 = \"World!\"\n",
        "\n",
        "print(text1,text2)"
      ]
    },
    {
      "cell_type": "markdown",
      "source": [
        ""
      ],
      "metadata": {
        "id": "U8n41hixd7QF"
      }
    },
    {
      "cell_type": "markdown",
      "metadata": {
        "id": "msxpn0GsNT4o"
      },
      "source": [
        "### Data Types\n",
        "\n",
        "As Python is an interpreted language, variables can be assigned without specifying their type: it will be inferred at execution time.\n",
        "\n",
        "The only thing that counts is how you initialize them and which operations you perform on them.\n",
        "\n",
        "```python\n",
        "a = 42          # Integer\n",
        "b = 3.14159     # Double precision float\n",
        "c = 'My string' # String\n",
        "d = False       # Boolean\n",
        "e = a > b       # Boolean\n",
        "```\n",
        "\n",
        "**Q:** Print these variables as well as their type:\n",
        "\n",
        "```python\n",
        "print(type(a))\n",
        " "
      ]
    },
    {
      "cell_type": "code",
      "execution_count": 49,
      "metadata": {
        "colab": {
          "base_uri": "https://localhost:8080/"
        },
        "id": "8h_2xcsZNT4p",
        "outputId": "65a27d25-cd65-4138-99a4-adbad281c6cc"
      },
      "outputs": [
        {
          "output_type": "stream",
          "name": "stdout",
          "text": [
            "Value of a is 42 type of a is <class 'int'>\n",
            "Value of a is 3.14159 type of a is <class 'float'>\n",
            "Value of a is My string type of a is <class 'str'>\n",
            "Value of a is False type of a is <class 'bool'>\n",
            "Value of a is True type of a is <class 'bool'>\n"
          ]
        }
      ],
      "source": [
        "a = 42          # Integer\n",
        "b = 3.14159     # Double precision float\n",
        "c = 'My string' # String\n",
        "d = False       # Boolean\n",
        "e = a > b       # Boolean\n",
        "\n",
        "\n",
        "print('Value of a is',a,'type of a is', type(a))\n",
        "print('Value of a is',b,'type of a is', type(b))\n",
        "print('Value of a is',c,'type of a is', type(c))\n",
        "print('Value of a is',d,'type of a is', type(d))\n",
        "print('Value of a is',e,'type of a is', type(e))"
      ]
    },
    {
      "cell_type": "markdown",
      "metadata": {
        "id": "F8WbjLLZNT4r"
      },
      "source": [
        "### Assignment Statement And Operators\n",
        "\n",
        "#### Assignment Statement\n",
        "\n",
        "The assignment can be done for a single variable, or for a tuple of variables separated by commas:\n",
        "\n",
        "\n",
        "```python\n",
        "m = 5 + 7\n",
        "\n",
        "x, y = 10, 20\n",
        "\n",
        "a, b, c, d = 5, 'Text', None, x==y\n",
        "```\n",
        "\n",
        "**Q:** Try these assignments and print the values of the variables."
      ]
    },
    {
      "cell_type": "code",
      "execution_count": 53,
      "metadata": {
        "colab": {
          "base_uri": "https://localhost:8080/"
        },
        "id": "q8qh7K_xNT4s",
        "outputId": "0ee812b5-df5f-4151-cd34-9c35e581a53a"
      },
      "outputs": [
        {
          "output_type": "stream",
          "name": "stdout",
          "text": [
            "12 10 20 5 Text None False\n"
          ]
        }
      ],
      "source": [
        "m = 5 + 7\n",
        "x, y = 10, 20\n",
        "a, b, c, d = 5, 'Text', None, x==y\n",
        "\n",
        "print(m,x,y,a,b,c,d)"
      ]
    },
    {
      "cell_type": "markdown",
      "metadata": {
        "id": "5s3CvsZRNT4t"
      },
      "source": [
        "#### Operators\n",
        "\n",
        "Most usual operators are available:\n",
        "\n",
        "```python\n",
        "+ , - , * , ** , / , // , %\n",
        "== , != , <> , > , >= , < , <=\n",
        "and , or , not\n",
        "```\n",
        "\n",
        "**Q:** Try them and comment on their behaviour. Observe in particular what happens when you add an integer and a float."
      ]
    },
    {
      "cell_type": "code",
      "execution_count": 55,
      "metadata": {
        "colab": {
          "base_uri": "https://localhost:8080/"
        },
        "id": "gj4eBNSZNT4u",
        "outputId": "558f86c3-ae53-46cd-bb0f-b3b7957ac3b6"
      },
      "outputs": [
        {
          "output_type": "stream",
          "name": "stdout",
          "text": [
            "10 <class 'int'>\n",
            "Value of x is 10 type of x is <class 'int'>\n"
          ]
        }
      ],
      "source": [
        "print(x, type(x))\n",
        "\n",
        "print('Value of x is',x,'type of x is', type(x))"
      ]
    },
    {
      "cell_type": "markdown",
      "metadata": {
        "id": "X4KIqKQoNT4v"
      },
      "source": [
        "**Q:** Divide an integer by either an integer or a float. What do you notice "
      ]
    },
    {
      "cell_type": "code",
      "execution_count": 57,
      "metadata": {
        "id": "JrUvJ7URNT4w",
        "colab": {
          "base_uri": "https://localhost:8080/",
          "height": 217
        },
        "outputId": "56325335-8f58-44ea-cf98-79bf5e7e2a38"
      },
      "outputs": [
        {
          "output_type": "error",
          "ename": "TypeError",
          "evalue": "ignored",
          "traceback": [
            "\u001b[0;31m---------------------------------------------------------------------------\u001b[0m",
            "\u001b[0;31mTypeError\u001b[0m                                 Traceback (most recent call last)",
            "\u001b[0;32m<ipython-input-57-07ba454b779e>\u001b[0m in \u001b[0;36m<module>\u001b[0;34m()\u001b[0m\n\u001b[1;32m      1\u001b[0m \u001b[0;34m\u001b[0m\u001b[0m\n\u001b[0;32m----> 2\u001b[0;31m \u001b[0mprint\u001b[0m\u001b[0;34m(\u001b[0m\u001b[0mint\u001b[0m\u001b[0;34m/\u001b[0m\u001b[0mfloat\u001b[0m\u001b[0;34m)\u001b[0m\u001b[0;34m\u001b[0m\u001b[0;34m\u001b[0m\u001b[0m\n\u001b[0m\u001b[1;32m      3\u001b[0m \u001b[0;34m\u001b[0m\u001b[0m\n\u001b[1;32m      4\u001b[0m \u001b[0mprint\u001b[0m\u001b[0;34m(\u001b[0m\u001b[0;36m6\u001b[0m\u001b[0;34m/\u001b[0m\u001b[0;36m2.0\u001b[0m\u001b[0;34m)\u001b[0m\u001b[0;34m\u001b[0m\u001b[0;34m\u001b[0m\u001b[0m\n",
            "\u001b[0;31mTypeError\u001b[0m: unsupported operand type(s) for /: 'type' and 'type'"
          ]
        }
      ],
      "source": [
        "\n",
        "print(int/float)\n",
        "\n",
        "print(6/2.0)"
      ]
    },
    {
      "cell_type": "markdown",
      "metadata": {
        "id": "Mzii-MlJNT4z"
      },
      "source": [
        "### Lists\n",
        "\n",
        "Python knows a number of compound data types, used to group together other values. The most versatile is the list, which can be written as a list of comma-separated values (items) between square brackets `[]`. List items need not all to have the same type. \n",
        "\n",
        "```python\n",
        "a = ['spam', 'eggs', 100, 1234]\n",
        "```\n",
        "\n",
        "**Q:** Define a list of various variables and print it:"
      ]
    },
    {
      "cell_type": "code",
      "execution_count": 21,
      "metadata": {
        "colab": {
          "base_uri": "https://localhost:8080/"
        },
        "id": "10WjT4JKNT44",
        "outputId": "abbac1bb-da9f-4da9-fb97-bb6671af1a11"
      },
      "outputs": [
        {
          "output_type": "execute_result",
          "data": {
            "text/plain": [
              "['spam', 'eggs', 100, 1234]"
            ]
          },
          "metadata": {},
          "execution_count": 21
        }
      ],
      "source": [
        "  \n",
        "\n",
        "['spam','eggs',100,1234] "
      ]
    },
    {
      "cell_type": "markdown",
      "metadata": {
        "id": "Jh7b319RNT48"
      },
      "source": [
        "The number of items in a list is available through the `len()` function applied to the list:\n",
        "\n",
        "```python\n",
        "len(a)\n",
        "```\n",
        "\n",
        "**Q:** Apply `len()` on the list, as well as on a string:"
      ]
    },
    {
      "cell_type": "code",
      "execution_count": 22,
      "metadata": {
        "colab": {
          "base_uri": "https://localhost:8080/"
        },
        "id": "uL0xoeAVNT4_",
        "outputId": "b884e549-d95b-49a7-d5a4-e58f478fa2cf"
      },
      "outputs": [
        {
          "output_type": "execute_result",
          "data": {
            "text/plain": [
              "4"
            ]
          },
          "metadata": {},
          "execution_count": 22
        }
      ],
      "source": [
        "\n",
        "\n",
        "len(a)"
      ]
    },
    {
      "cell_type": "markdown",
      "metadata": {
        "id": "1fFfTWCnNT5A"
      },
      "source": [
        "To access the elements of the list, indexing and slicing can be used. \n",
        "\n",
        "* As in C, indices start at 0, so `a[0]` is the first element of the list, `a[3]` is its fourth element. \n",
        "\n",
        "* Negative indices start from the end of the list, so `a[-1]` is the last element, `a[-2]` the last but one, etc.\n",
        "\n",
        "* Slices return a list containing a subset of elements, with the form `a[start:stop]`, `stop` being excluded. `a[1:3]` returns the second and third elements. WHen omitted, `start` is 0 (`a[:2]` returns the two first elements) and `stop` is the length of the list (`a[1:]` has all elements of `a` except the first one).  \n",
        "\n",
        "**Q:** Experiment with indexing and slicing on your list."
      ]
    },
    {
      "cell_type": "code",
      "execution_count": 24,
      "metadata": {
        "colab": {
          "base_uri": "https://localhost:8080/"
        },
        "id": "OzzhxNb5NT5B",
        "outputId": "24c2f02f-04aa-4375-dd40-0898d9a77149"
      },
      "outputs": [
        {
          "output_type": "execute_result",
          "data": {
            "text/plain": [
              "[]"
            ]
          },
          "metadata": {},
          "execution_count": 24
        }
      ],
      "source": [
        "a[:0] [3:]"
      ]
    },
    {
      "cell_type": "markdown",
      "metadata": {
        "id": "novslGX-NT5C"
      },
      "source": [
        "Copying lists can cause some problems: \n",
        "\n",
        "```python\n",
        "a = [1,2,3] # Initial list\n",
        "\n",
        "b = a # \"Copy\" the list by reference \n",
        "\n",
        "a[0] = 9 # Change one item of the initial list\n",
        "```\n",
        "\n",
        "**Q:** Now print `a` and `b`. What happens?"
      ]
    },
    {
      "cell_type": "code",
      "execution_count": 25,
      "metadata": {
        "colab": {
          "base_uri": "https://localhost:8080/"
        },
        "id": "rJyfkHeYNT5D",
        "outputId": "c76ffcf0-56e0-412f-cc3a-1bea0c578032"
      },
      "outputs": [
        {
          "output_type": "stream",
          "name": "stdout",
          "text": [
            "['spam', 'eggs', 100, 1234] Text\n"
          ]
        }
      ],
      "source": [
        "print(a,b)"
      ]
    },
    {
      "cell_type": "markdown",
      "metadata": {
        "id": "q4xvp7jKNT5D"
      },
      "source": [
        "**A:**  `B = A` does not make a copy of the **content** of `A`, but of its **reference** (pointer). So `a` and `b` both points at the same object."
      ]
    },
    {
      "cell_type": "markdown",
      "metadata": {
        "id": "9rADhPfhNT5E"
      },
      "source": [
        "The solution is to use the built-in `copy()` method of lists:\n",
        "\n",
        "```python\n",
        "b = a.copy()\n",
        "```\n",
        "\n",
        "**Q:** Try it and observe the difference."
      ]
    },
    {
      "cell_type": "code",
      "execution_count": 27,
      "metadata": {
        "colab": {
          "base_uri": "https://localhost:8080/"
        },
        "id": "JrL6KaU_NT5F",
        "outputId": "f97900bc-599e-4039-e508-6a202a226285"
      },
      "outputs": [
        {
          "output_type": "stream",
          "name": "stdout",
          "text": [
            "Help on class list in module builtins:\n",
            "\n",
            "class list(object)\n",
            " |  list(iterable=(), /)\n",
            " |  \n",
            " |  Built-in mutable sequence.\n",
            " |  \n",
            " |  If no argument is given, the constructor creates a new empty list.\n",
            " |  The argument must be an iterable if specified.\n",
            " |  \n",
            " |  Methods defined here:\n",
            " |  \n",
            " |  __add__(self, value, /)\n",
            " |      Return self+value.\n",
            " |  \n",
            " |  __contains__(self, key, /)\n",
            " |      Return key in self.\n",
            " |  \n",
            " |  __delitem__(self, key, /)\n",
            " |      Delete self[key].\n",
            " |  \n",
            " |  __eq__(self, value, /)\n",
            " |      Return self==value.\n",
            " |  \n",
            " |  __ge__(self, value, /)\n",
            " |      Return self>=value.\n",
            " |  \n",
            " |  __getattribute__(self, name, /)\n",
            " |      Return getattr(self, name).\n",
            " |  \n",
            " |  __getitem__(...)\n",
            " |      x.__getitem__(y) <==> x[y]\n",
            " |  \n",
            " |  __gt__(self, value, /)\n",
            " |      Return self>value.\n",
            " |  \n",
            " |  __iadd__(self, value, /)\n",
            " |      Implement self+=value.\n",
            " |  \n",
            " |  __imul__(self, value, /)\n",
            " |      Implement self*=value.\n",
            " |  \n",
            " |  __init__(self, /, *args, **kwargs)\n",
            " |      Initialize self.  See help(type(self)) for accurate signature.\n",
            " |  \n",
            " |  __iter__(self, /)\n",
            " |      Implement iter(self).\n",
            " |  \n",
            " |  __le__(self, value, /)\n",
            " |      Return self<=value.\n",
            " |  \n",
            " |  __len__(self, /)\n",
            " |      Return len(self).\n",
            " |  \n",
            " |  __lt__(self, value, /)\n",
            " |      Return self<value.\n",
            " |  \n",
            " |  __mul__(self, value, /)\n",
            " |      Return self*value.\n",
            " |  \n",
            " |  __ne__(self, value, /)\n",
            " |      Return self!=value.\n",
            " |  \n",
            " |  __repr__(self, /)\n",
            " |      Return repr(self).\n",
            " |  \n",
            " |  __reversed__(self, /)\n",
            " |      Return a reverse iterator over the list.\n",
            " |  \n",
            " |  __rmul__(self, value, /)\n",
            " |      Return value*self.\n",
            " |  \n",
            " |  __setitem__(self, key, value, /)\n",
            " |      Set self[key] to value.\n",
            " |  \n",
            " |  __sizeof__(self, /)\n",
            " |      Return the size of the list in memory, in bytes.\n",
            " |  \n",
            " |  append(self, object, /)\n",
            " |      Append object to the end of the list.\n",
            " |  \n",
            " |  clear(self, /)\n",
            " |      Remove all items from list.\n",
            " |  \n",
            " |  copy(self, /)\n",
            " |      Return a shallow copy of the list.\n",
            " |  \n",
            " |  count(self, value, /)\n",
            " |      Return number of occurrences of value.\n",
            " |  \n",
            " |  extend(self, iterable, /)\n",
            " |      Extend list by appending elements from the iterable.\n",
            " |  \n",
            " |  index(self, value, start=0, stop=9223372036854775807, /)\n",
            " |      Return first index of value.\n",
            " |      \n",
            " |      Raises ValueError if the value is not present.\n",
            " |  \n",
            " |  insert(self, index, object, /)\n",
            " |      Insert object before index.\n",
            " |  \n",
            " |  pop(self, index=-1, /)\n",
            " |      Remove and return item at index (default last).\n",
            " |      \n",
            " |      Raises IndexError if list is empty or index is out of range.\n",
            " |  \n",
            " |  remove(self, value, /)\n",
            " |      Remove first occurrence of value.\n",
            " |      \n",
            " |      Raises ValueError if the value is not present.\n",
            " |  \n",
            " |  reverse(self, /)\n",
            " |      Reverse *IN PLACE*.\n",
            " |  \n",
            " |  sort(self, /, *, key=None, reverse=False)\n",
            " |      Stable sort *IN PLACE*.\n",
            " |  \n",
            " |  ----------------------------------------------------------------------\n",
            " |  Static methods defined here:\n",
            " |  \n",
            " |  __new__(*args, **kwargs) from builtins.type\n",
            " |      Create and return a new object.  See help(type) for accurate signature.\n",
            " |  \n",
            " |  ----------------------------------------------------------------------\n",
            " |  Data and other attributes defined here:\n",
            " |  \n",
            " |  __hash__ = None\n",
            "\n"
          ]
        }
      ],
      "source": [
        "help(list)"
      ]
    },
    {
      "cell_type": "markdown",
      "metadata": {
        "id": "K-unYkUsNT5F"
      },
      "source": [
        "Lists are objects, with a lot of different built-in methods (type `help(list)` in the interpreter or in a cell):\n",
        "\n",
        "-   `a.append(x)`: Add an item to the end of the list.\n",
        "-   `a.extend(L)`: Extend the list by appending all the items in the given list.\n",
        "-   `a.insert(i, x)`: Insert an item at a given position.\n",
        "-   `a.remove(x)`: Remove the first item from the list whose value is x.\n",
        "-   `a.pop(i)`: Remove the item at the given position in the list, and return it.\n",
        "-   `a.index(x)`: Return the index in the list of the first item whose value is x.\n",
        "-   `a.count(x)`: Return the number of times x appears in the list.\n",
        "-   `a.sort()`: Sort the items of the list, in place.\n",
        "-   `a.reverse()`: Reverse the elements of the list, in place.\n",
        "\n",
        "**Q:** Try out quickly these methods, in particular `append()` which we will use quite often."
      ]
    },
    {
      "cell_type": "code",
      "execution_count": 29,
      "metadata": {
        "colab": {
          "base_uri": "https://localhost:8080/"
        },
        "id": "OLuMTgqnNT5G",
        "outputId": "15c546db-1663-430b-ec3b-be22f76a4cec"
      },
      "outputs": [
        {
          "output_type": "stream",
          "name": "stdout",
          "text": [
            "[1, 2, 3, 4]\n"
          ]
        }
      ],
      "source": [
        "a = [1, 2, 3]\n",
        "\n",
        "a.append(4)\n",
        "\n",
        "print(a)\n"
      ]
    },
    {
      "cell_type": "markdown",
      "metadata": {
        "id": "wmwSqIVpNT5L"
      },
      "source": [
        "### If Statement \n",
        "\n",
        "Perhaps the most well-known conditional statement type is the `if` statement. For example:\n",
        "\n",
        "```python\n",
        "if x < 0 :\n",
        "    print('x =', x, 'is negative')\n",
        "elif x == 0:\n",
        "    print('x =', x, 'is zero')\n",
        "else:\n",
        "    print('x =', x, 'is positive')\n",
        "```\n",
        "\n",
        "**Q:** Give a value to the variable `x` and see what this statement does."
      ]
    },
    {
      "cell_type": "code",
      "execution_count": 6,
      "metadata": {
        "id": "uLqgjbjDNT5M"
      },
      "outputs": [],
      "source": [
        ""
      ]
    },
    {
      "cell_type": "markdown",
      "metadata": {
        "id": "1Mgj4YmONT5N"
      },
      "source": [
        "**Important!** The main particularity of the Python syntax is that the scope of the different structures (functions, for, if, while, etc...) is defined by the indentation, not by curly braces `{}`. As long as the code stays at the same level, it is in the same scope:\n",
        "\n",
        "```python\n",
        "if x < 0 :\n",
        "    print('x =', x, 'is negative')\n",
        "    x = -x\n",
        "    print('x =', x, 'is now positive')\n",
        "elif x == 0:\n",
        "    print('x =', x, 'is zero')\n",
        "else:\n",
        "    print('x =', x, 'is positive')\n",
        "```\n",
        "\n",
        "A reasonable choice is to use four spaces for the indentation instead of tabs (configure your text editor if you are not using Jupyter).\n",
        "\n",
        "When the scope is terminated, you need to come back at **exactly** the same level of indentation. Try this misaligned structure and observe what happens:\n",
        "\n",
        "```python\n",
        "if x < 0 :\n",
        "    print('x =', x, 'is negative')\n",
        " elif x == 0:\n",
        "    print('x =', x, 'is zero')\n",
        " else:\n",
        "    print('x =', x, 'is positive')\n",
        "```\n",
        "\n",
        "Jupyter is nice enough to highlight it for you, but not all text editors do that..."
      ]
    },
    {
      "cell_type": "code",
      "execution_count": 38,
      "metadata": {
        "id": "6QZZ8VYwNT5O",
        "colab": {
          "base_uri": "https://localhost:8080/",
          "height": 130
        },
        "outputId": "7d08ff8d-4bf8-4384-dc1a-fa700d969b83"
      },
      "outputs": [
        {
          "output_type": "error",
          "ename": "IndentationError",
          "evalue": "ignored",
          "traceback": [
            "\u001b[0;36m  File \u001b[0;32m\"<ipython-input-38-d13f1d3ad6d4>\"\u001b[0;36m, line \u001b[0;32m3\u001b[0m\n\u001b[0;31m    else if x == 0:\u001b[0m\n\u001b[0m                   ^\u001b[0m\n\u001b[0;31mIndentationError\u001b[0m\u001b[0;31m:\u001b[0m unindent does not match any outer indentation level\n"
          ]
        }
      ],
      "source": [
        "if x < 0 :\n",
        "    print('x =', x, 'is negative')\n",
        " else if x == 0:\n",
        "    print('x =', x, 'is zero')\n",
        " else:\n",
        "    print('x =', x, 'is positive')"
      ]
    },
    {
      "cell_type": "markdown",
      "metadata": {
        "id": "RURf7NjlNT5Q"
      },
      "source": [
        "In a if statement, there can be zero or more elif parts. What to do when the condition is true should be indented. The keyword `\"elif\"` is a shortened form of `\"else if\"`, and is useful to avoid excessive indentation. An `if ... elif ... elif ...` sequence is a substitute for the switch or case statements found in other languages.\n",
        "\n",
        "The `elif` and `else` statements are optional. You can also only use the if statement alone:\n",
        "\n",
        "```python\n",
        "a = [1, 2, 0]\n",
        "has_zero = False\n",
        "if 0 in a:\n",
        "    has_zero = True\n",
        "```\n",
        "\n",
        "Note the use of the `in` keyword to know if an element exists in a list."
      ]
    },
    {
      "cell_type": "markdown",
      "metadata": {
        "id": "L9AUbWr4NT5Q"
      },
      "source": [
        "### For loops\n",
        "\n",
        "The for statement in Python differs a bit from what you may be used to in C, Java or Pascal.\n",
        "\n",
        "Rather than always iterating over an arithmetic progression of numbers (like in Pascal), or giving the user the ability to define both the iteration step and halting condition (as C), Python's for statement iterates over the items of any sequence (a list or a string), in the order they appear in the sequence.\n",
        "\n",
        "```python\n",
        "list_words = ['cat', 'window', 'defenestrate']\n",
        "\n",
        "for word in list_words:\n",
        "    print(word, len(word))\n",
        "```\n",
        "\n",
        "**Q:** Iterate over the list you created previously and print each element.\n"
      ]
    },
    {
      "cell_type": "code",
      "execution_count": 42,
      "metadata": {
        "id": "CnqWZI9pNT5R"
      },
      "outputs": [],
      "source": [
        ""
      ]
    },
    {
      "cell_type": "markdown",
      "metadata": {
        "id": "0llNWLggNT5S"
      },
      "source": [
        "If you do need to iterate over a sequence of numbers, the built-in function `range()` comes in handy. It generates lists containing arithmetic progressions:\n",
        "\n",
        "```python\n",
        "for i in range(5):\n",
        "    print(i)\n",
        "```\n",
        "\n",
        "**Q:** Try it."
      ]
    },
    {
      "cell_type": "code",
      "execution_count": 43,
      "metadata": {
        "id": "BXEDt1DuNT5S"
      },
      "outputs": [],
      "source": [
        ""
      ]
    },
    {
      "cell_type": "markdown",
      "metadata": {
        "id": "sLTmgUo5NT5T"
      },
      "source": [
        "`range(N)` generates a list of N number starting from 0 until N-1.\n",
        "\n",
        "It is possible to specify a start value (0 by default), an end value (excluded) and even a step:\n",
        "\n",
        "```python\n",
        "range(5, 10)\n",
        "range(5, 10, 2)\n",
        "```\n",
        "\n",
        "**Q:** Print the second and fourth elements of your list (`['spam', 'eggs', 100, 1234]`) using `range()`."
      ]
    },
    {
      "cell_type": "code",
      "execution_count": 71,
      "metadata": {
        "colab": {
          "base_uri": "https://localhost:8080/"
        },
        "id": "vspbLRZyNT5U",
        "outputId": "505fe868-3985-4413-b9bd-3cb29a0b2ea1"
      },
      "outputs": [
        {
          "output_type": "execute_result",
          "data": {
            "text/plain": [
              "range(1, 3)"
            ]
          },
          "metadata": {},
          "execution_count": 71
        }
      ],
      "source": [
        "range(1,3)"
      ]
    },
    {
      "cell_type": "markdown",
      "metadata": {
        "id": "Eqfs18euNT5U"
      },
      "source": [
        "To iterate over all the indices of a list (0, 1, 2, etc), you can combine range() and len() as follows:\n",
        "\n",
        "```python\n",
        "for idx in range(len(a)):\n",
        "```\n",
        "\n",
        "The `enumerate()` function allows to get at the same time the index and the content:\n",
        "\n",
        "```python\n",
        "for i, val in enumerate(a):\n",
        "    print(i, val)\n",
        "```"
      ]
    },
    {
      "cell_type": "code",
      "execution_count": 46,
      "metadata": {
        "colab": {
          "base_uri": "https://localhost:8080/"
        },
        "id": "uw3ABO66NT5V",
        "outputId": "b6e7dd9a-2ba0-40b5-fafd-9f9577ff6fc0"
      },
      "outputs": [
        {
          "output_type": "stream",
          "name": "stdout",
          "text": [
            "0 1\n",
            "1 2\n",
            "2 3\n",
            "3 4\n"
          ]
        }
      ],
      "source": [
        "for i, val in enumerate(a):\n",
        "   #print the result below: \n",
        "   print(i, val)"
      ]
    }
  ],
  "metadata": {
    "kernelspec": {
      "display_name": "Python 3",
      "language": "python",
      "name": "python3"
    },
    "language_info": {
      "codemirror_mode": {
        "name": "ipython",
        "version": 3
      },
      "file_extension": ".py",
      "mimetype": "text/x-python",
      "name": "python",
      "nbconvert_exporter": "python",
      "pygments_lexer": "ipython3",
      "version": "3.8.5"
    },
    "colab": {
      "name": "Homework 1.ipynb",
      "provenance": [],
      "collapsed_sections": [],
      "include_colab_link": true
    }
  },
  "nbformat": 4,
  "nbformat_minor": 0
}